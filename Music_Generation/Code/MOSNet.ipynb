{
  "nbformat": 4,
  "nbformat_minor": 0,
  "metadata": {
    "colab": {
      "provenance": []
    },
    "kernelspec": {
      "name": "python3",
      "display_name": "Python 3"
    },
    "language_info": {
      "name": "python"
    }
  },
  "cells": [
    {
      "cell_type": "code",
      "source": [
        "!pip install numpy==1.23.4\n",
        "!pip install git+https://github.com/aliutkus/speechmetrics#egg=speechmetrics"
      ],
      "metadata": {
        "colab": {
          "base_uri": "https://localhost:8080/",
          "height": 1000
        },
        "id": "9_KKOe2hAV5x",
        "outputId": "aa1dc1fd-7bba-4558-fa78-a719d8edf044"
      },
      "execution_count": 2,
      "outputs": [
        {
          "output_type": "stream",
          "name": "stdout",
          "text": [
            "Requirement already satisfied: numpy==1.23.4 in /usr/local/lib/python3.10/dist-packages (1.23.4)\n",
            "Collecting speechmetrics\n",
            "  Cloning https://github.com/aliutkus/speechmetrics to /tmp/pip-install-ph3p7w48/speechmetrics_0d7de9bd7e654764af180ec0a5cc6a96\n",
            "  Running command git clone --filter=blob:none --quiet https://github.com/aliutkus/speechmetrics /tmp/pip-install-ph3p7w48/speechmetrics_0d7de9bd7e654764af180ec0a5cc6a96\n",
            "  Resolved https://github.com/aliutkus/speechmetrics to commit 74619e961209b35574ea208f4827fbeab42af5e9\n",
            "  Preparing metadata (setup.py) ... \u001b[?25l\u001b[?25hdone\n",
            "Collecting pypesq@ git+https://github.com/vBaiCai/python-pesq (from speechmetrics)\n",
            "  Cloning https://github.com/vBaiCai/python-pesq to /tmp/pip-install-ph3p7w48/pypesq_f6a9c8c31ae541edb7b62925f648ac6a\n",
            "  Running command git clone --filter=blob:none --quiet https://github.com/vBaiCai/python-pesq /tmp/pip-install-ph3p7w48/pypesq_f6a9c8c31ae541edb7b62925f648ac6a\n",
            "  Resolved https://github.com/vBaiCai/python-pesq to commit a76902d7dd371a172bfcbb52d80b2d1f1f9251dd\n",
            "  Preparing metadata (setup.py) ... \u001b[?25l\u001b[?25hdone\n",
            "Collecting srmrpy@ git+https://github.com/jfsantos/SRMRpy (from speechmetrics)\n",
            "  Cloning https://github.com/jfsantos/SRMRpy to /tmp/pip-install-ph3p7w48/srmrpy_a79d1665d28f492fbfae5b5b99560e68\n",
            "  Running command git clone --filter=blob:none --quiet https://github.com/jfsantos/SRMRpy /tmp/pip-install-ph3p7w48/srmrpy_a79d1665d28f492fbfae5b5b99560e68\n",
            "  Resolved https://github.com/jfsantos/SRMRpy to commit 3949767ab39573d571c816f4f6e9bfc9fa77e56d\n",
            "  Preparing metadata (setup.py) ... \u001b[?25l\u001b[?25hdone\n",
            "Collecting pesq@ git+https://github.com/ludlows/python-pesq (from speechmetrics)\n",
            "  Cloning https://github.com/ludlows/python-pesq to /tmp/pip-install-ph3p7w48/pesq_599c1eaa4a204b2bacfc7b04f9b566e1\n",
            "  Running command git clone --filter=blob:none --quiet https://github.com/ludlows/python-pesq /tmp/pip-install-ph3p7w48/pesq_599c1eaa4a204b2bacfc7b04f9b566e1\n",
            "  Resolved https://github.com/ludlows/python-pesq to commit 5e230c59a3272fa80d8a6ea0d1e623f3fa560731\n",
            "  Preparing metadata (setup.py) ... \u001b[?25l\u001b[?25hdone\n",
            "Requirement already satisfied: numpy<1.24 in /usr/local/lib/python3.10/dist-packages (from speechmetrics) (1.23.4)\n",
            "Requirement already satisfied: scipy in /usr/local/lib/python3.10/dist-packages (from speechmetrics) (1.11.4)\n",
            "Requirement already satisfied: tqdm in /usr/local/lib/python3.10/dist-packages (from speechmetrics) (4.66.4)\n",
            "Collecting resampy (from speechmetrics)\n",
            "  Downloading resampy-0.4.3-py3-none-any.whl (3.1 MB)\n",
            "\u001b[2K     \u001b[90m━━━━━━━━━━━━━━━━━━━━━━━━━━━━━━━━━━━━━━━━\u001b[0m \u001b[32m3.1/3.1 MB\u001b[0m \u001b[31m16.5 MB/s\u001b[0m eta \u001b[36m0:00:00\u001b[0m\n",
            "\u001b[?25hCollecting pystoi (from speechmetrics)\n",
            "  Downloading pystoi-0.4.1-py2.py3-none-any.whl (8.2 kB)\n",
            "Collecting museval (from speechmetrics)\n",
            "  Downloading museval-0.4.1-py2.py3-none-any.whl (20 kB)\n",
            "Requirement already satisfied: tensorflow>=2.0.0 in /usr/local/lib/python3.10/dist-packages (from speechmetrics) (2.15.0)\n",
            "Requirement already satisfied: librosa in /usr/local/lib/python3.10/dist-packages (from speechmetrics) (0.10.2)\n",
            "Requirement already satisfied: absl-py>=1.0.0 in /usr/local/lib/python3.10/dist-packages (from tensorflow>=2.0.0->speechmetrics) (1.4.0)\n",
            "Requirement already satisfied: astunparse>=1.6.0 in /usr/local/lib/python3.10/dist-packages (from tensorflow>=2.0.0->speechmetrics) (1.6.3)\n",
            "Requirement already satisfied: flatbuffers>=23.5.26 in /usr/local/lib/python3.10/dist-packages (from tensorflow>=2.0.0->speechmetrics) (24.3.25)\n",
            "Requirement already satisfied: gast!=0.5.0,!=0.5.1,!=0.5.2,>=0.2.1 in /usr/local/lib/python3.10/dist-packages (from tensorflow>=2.0.0->speechmetrics) (0.5.4)\n",
            "Requirement already satisfied: google-pasta>=0.1.1 in /usr/local/lib/python3.10/dist-packages (from tensorflow>=2.0.0->speechmetrics) (0.2.0)\n",
            "Requirement already satisfied: h5py>=2.9.0 in /usr/local/lib/python3.10/dist-packages (from tensorflow>=2.0.0->speechmetrics) (3.9.0)\n",
            "Requirement already satisfied: libclang>=13.0.0 in /usr/local/lib/python3.10/dist-packages (from tensorflow>=2.0.0->speechmetrics) (18.1.1)\n",
            "Requirement already satisfied: ml-dtypes~=0.2.0 in /usr/local/lib/python3.10/dist-packages (from tensorflow>=2.0.0->speechmetrics) (0.2.0)\n",
            "Collecting numpy<1.24 (from speechmetrics)\n",
            "  Downloading numpy-1.23.5-cp310-cp310-manylinux_2_17_x86_64.manylinux2014_x86_64.whl (17.1 MB)\n",
            "\u001b[2K     \u001b[90m━━━━━━━━━━━━━━━━━━━━━━━━━━━━━━━━━━━━━━━━\u001b[0m \u001b[32m17.1/17.1 MB\u001b[0m \u001b[31m22.1 MB/s\u001b[0m eta \u001b[36m0:00:00\u001b[0m\n",
            "\u001b[?25hRequirement already satisfied: opt-einsum>=2.3.2 in /usr/local/lib/python3.10/dist-packages (from tensorflow>=2.0.0->speechmetrics) (3.3.0)\n",
            "Requirement already satisfied: packaging in /usr/local/lib/python3.10/dist-packages (from tensorflow>=2.0.0->speechmetrics) (24.0)\n",
            "Requirement already satisfied: protobuf!=4.21.0,!=4.21.1,!=4.21.2,!=4.21.3,!=4.21.4,!=4.21.5,<5.0.0dev,>=3.20.3 in /usr/local/lib/python3.10/dist-packages (from tensorflow>=2.0.0->speechmetrics) (3.20.3)\n",
            "Requirement already satisfied: setuptools in /usr/local/lib/python3.10/dist-packages (from tensorflow>=2.0.0->speechmetrics) (67.7.2)\n",
            "Requirement already satisfied: six>=1.12.0 in /usr/local/lib/python3.10/dist-packages (from tensorflow>=2.0.0->speechmetrics) (1.16.0)\n",
            "Requirement already satisfied: termcolor>=1.1.0 in /usr/local/lib/python3.10/dist-packages (from tensorflow>=2.0.0->speechmetrics) (2.4.0)\n",
            "Requirement already satisfied: typing-extensions>=3.6.6 in /usr/local/lib/python3.10/dist-packages (from tensorflow>=2.0.0->speechmetrics) (4.11.0)\n",
            "Requirement already satisfied: wrapt<1.15,>=1.11.0 in /usr/local/lib/python3.10/dist-packages (from tensorflow>=2.0.0->speechmetrics) (1.14.1)\n",
            "Requirement already satisfied: tensorflow-io-gcs-filesystem>=0.23.1 in /usr/local/lib/python3.10/dist-packages (from tensorflow>=2.0.0->speechmetrics) (0.37.0)\n",
            "Requirement already satisfied: grpcio<2.0,>=1.24.3 in /usr/local/lib/python3.10/dist-packages (from tensorflow>=2.0.0->speechmetrics) (1.63.0)\n",
            "Requirement already satisfied: tensorboard<2.16,>=2.15 in /usr/local/lib/python3.10/dist-packages (from tensorflow>=2.0.0->speechmetrics) (2.15.2)\n",
            "Requirement already satisfied: tensorflow-estimator<2.16,>=2.15.0 in /usr/local/lib/python3.10/dist-packages (from tensorflow>=2.0.0->speechmetrics) (2.15.0)\n",
            "Requirement already satisfied: keras<2.16,>=2.15.0 in /usr/local/lib/python3.10/dist-packages (from tensorflow>=2.0.0->speechmetrics) (2.15.0)\n",
            "Requirement already satisfied: audioread>=2.1.9 in /usr/local/lib/python3.10/dist-packages (from librosa->speechmetrics) (3.0.1)\n",
            "Requirement already satisfied: scikit-learn>=0.20.0 in /usr/local/lib/python3.10/dist-packages (from librosa->speechmetrics) (1.2.2)\n",
            "Requirement already satisfied: joblib>=0.14 in /usr/local/lib/python3.10/dist-packages (from librosa->speechmetrics) (1.4.2)\n",
            "Requirement already satisfied: decorator>=4.3.0 in /usr/local/lib/python3.10/dist-packages (from librosa->speechmetrics) (4.4.2)\n",
            "Requirement already satisfied: numba>=0.51.0 in /usr/local/lib/python3.10/dist-packages (from librosa->speechmetrics) (0.58.1)\n",
            "Requirement already satisfied: soundfile>=0.12.1 in /usr/local/lib/python3.10/dist-packages (from librosa->speechmetrics) (0.12.1)\n",
            "Requirement already satisfied: pooch>=1.1 in /usr/local/lib/python3.10/dist-packages (from librosa->speechmetrics) (1.8.1)\n",
            "Requirement already satisfied: soxr>=0.3.2 in /usr/local/lib/python3.10/dist-packages (from librosa->speechmetrics) (0.3.7)\n",
            "Requirement already satisfied: lazy-loader>=0.1 in /usr/local/lib/python3.10/dist-packages (from librosa->speechmetrics) (0.4)\n",
            "Requirement already satisfied: msgpack>=1.0 in /usr/local/lib/python3.10/dist-packages (from librosa->speechmetrics) (1.0.8)\n",
            "Collecting musdb>=0.4.0 (from museval->speechmetrics)\n",
            "  Downloading musdb-0.4.2-py2.py3-none-any.whl (13 kB)\n",
            "Requirement already satisfied: pandas>=1.0.1 in /usr/local/lib/python3.10/dist-packages (from museval->speechmetrics) (2.0.3)\n",
            "Collecting simplejson>=3.19.0 (from museval->speechmetrics)\n",
            "  Downloading simplejson-3.19.2-cp310-cp310-manylinux_2_5_x86_64.manylinux1_x86_64.manylinux_2_17_x86_64.manylinux2014_x86_64.whl (137 kB)\n",
            "\u001b[2K     \u001b[90m━━━━━━━━━━━━━━━━━━━━━━━━━━━━━━━━━━━━━━━━\u001b[0m \u001b[32m137.9/137.9 kB\u001b[0m \u001b[31m16.4 MB/s\u001b[0m eta \u001b[36m0:00:00\u001b[0m\n",
            "\u001b[?25hRequirement already satisfied: jsonschema in /usr/local/lib/python3.10/dist-packages (from museval->speechmetrics) (4.19.2)\n",
            "Collecting Gammatone@ https://github.com/detly/gammatone/archive/master.zip#egg=Gammatone (from srmrpy@ git+https://github.com/jfsantos/SRMRpy->speechmetrics)\n",
            "  Downloading https://github.com/detly/gammatone/archive/master.zip (59.4 MB)\n",
            "\u001b[2K     \u001b[90m━━━━━━━━━━━━━━━━━━━━━━━━━━━━━━━━━━━━━━━━\u001b[0m \u001b[32m59.4/59.4 MB\u001b[0m \u001b[31m9.1 MB/s\u001b[0m eta \u001b[36m0:00:00\u001b[0m\n",
            "\u001b[?25h  Preparing metadata (setup.py) ... \u001b[?25l\u001b[?25hdone\n",
            "Requirement already satisfied: wheel<1.0,>=0.23.0 in /usr/local/lib/python3.10/dist-packages (from astunparse>=1.6.0->tensorflow>=2.0.0->speechmetrics) (0.43.0)\n",
            "Collecting stempeg>=0.2.3 (from musdb>=0.4.0->museval->speechmetrics)\n",
            "  Downloading stempeg-0.2.3-py3-none-any.whl (963 kB)\n",
            "\u001b[2K     \u001b[90m━━━━━━━━━━━━━━━━━━━━━━━━━━━━━━━━━━━━━━━━\u001b[0m \u001b[32m963.5/963.5 kB\u001b[0m \u001b[31m20.8 MB/s\u001b[0m eta \u001b[36m0:00:00\u001b[0m\n",
            "\u001b[?25hCollecting pyaml (from musdb>=0.4.0->museval->speechmetrics)\n",
            "  Downloading pyaml-24.4.0-py3-none-any.whl (24 kB)\n",
            "Requirement already satisfied: llvmlite<0.42,>=0.41.0dev0 in /usr/local/lib/python3.10/dist-packages (from numba>=0.51.0->librosa->speechmetrics) (0.41.1)\n",
            "Requirement already satisfied: python-dateutil>=2.8.2 in /usr/local/lib/python3.10/dist-packages (from pandas>=1.0.1->museval->speechmetrics) (2.8.2)\n",
            "Requirement already satisfied: pytz>=2020.1 in /usr/local/lib/python3.10/dist-packages (from pandas>=1.0.1->museval->speechmetrics) (2023.4)\n",
            "Requirement already satisfied: tzdata>=2022.1 in /usr/local/lib/python3.10/dist-packages (from pandas>=1.0.1->museval->speechmetrics) (2024.1)\n",
            "Requirement already satisfied: platformdirs>=2.5.0 in /usr/local/lib/python3.10/dist-packages (from pooch>=1.1->librosa->speechmetrics) (4.2.1)\n",
            "Requirement already satisfied: requests>=2.19.0 in /usr/local/lib/python3.10/dist-packages (from pooch>=1.1->librosa->speechmetrics) (2.31.0)\n",
            "Requirement already satisfied: threadpoolctl>=2.0.0 in /usr/local/lib/python3.10/dist-packages (from scikit-learn>=0.20.0->librosa->speechmetrics) (3.5.0)\n",
            "Requirement already satisfied: cffi>=1.0 in /usr/local/lib/python3.10/dist-packages (from soundfile>=0.12.1->librosa->speechmetrics) (1.16.0)\n",
            "Requirement already satisfied: google-auth<3,>=1.6.3 in /usr/local/lib/python3.10/dist-packages (from tensorboard<2.16,>=2.15->tensorflow>=2.0.0->speechmetrics) (2.27.0)\n",
            "Requirement already satisfied: google-auth-oauthlib<2,>=0.5 in /usr/local/lib/python3.10/dist-packages (from tensorboard<2.16,>=2.15->tensorflow>=2.0.0->speechmetrics) (1.2.0)\n",
            "Requirement already satisfied: markdown>=2.6.8 in /usr/local/lib/python3.10/dist-packages (from tensorboard<2.16,>=2.15->tensorflow>=2.0.0->speechmetrics) (3.6)\n",
            "Requirement already satisfied: tensorboard-data-server<0.8.0,>=0.7.0 in /usr/local/lib/python3.10/dist-packages (from tensorboard<2.16,>=2.15->tensorflow>=2.0.0->speechmetrics) (0.7.2)\n",
            "Requirement already satisfied: werkzeug>=1.0.1 in /usr/local/lib/python3.10/dist-packages (from tensorboard<2.16,>=2.15->tensorflow>=2.0.0->speechmetrics) (3.0.3)\n",
            "Collecting nose (from Gammatone@ https://github.com/detly/gammatone/archive/master.zip#egg=Gammatone->srmrpy@ git+https://github.com/jfsantos/SRMRpy->speechmetrics)\n",
            "  Downloading nose-1.3.7-py3-none-any.whl (154 kB)\n",
            "\u001b[2K     \u001b[90m━━━━━━━━━━━━━━━━━━━━━━━━━━━━━━━━━━━━━━━━\u001b[0m \u001b[32m154.7/154.7 kB\u001b[0m \u001b[31m16.5 MB/s\u001b[0m eta \u001b[36m0:00:00\u001b[0m\n",
            "\u001b[?25hCollecting mock (from Gammatone@ https://github.com/detly/gammatone/archive/master.zip#egg=Gammatone->srmrpy@ git+https://github.com/jfsantos/SRMRpy->speechmetrics)\n",
            "  Downloading mock-5.1.0-py3-none-any.whl (30 kB)\n",
            "Requirement already satisfied: matplotlib in /usr/local/lib/python3.10/dist-packages (from Gammatone@ https://github.com/detly/gammatone/archive/master.zip#egg=Gammatone->srmrpy@ git+https://github.com/jfsantos/SRMRpy->speechmetrics) (3.7.1)\n",
            "Requirement already satisfied: attrs>=22.2.0 in /usr/local/lib/python3.10/dist-packages (from jsonschema->museval->speechmetrics) (23.2.0)\n",
            "Requirement already satisfied: jsonschema-specifications>=2023.03.6 in /usr/local/lib/python3.10/dist-packages (from jsonschema->museval->speechmetrics) (2023.12.1)\n",
            "Requirement already satisfied: referencing>=0.28.4 in /usr/local/lib/python3.10/dist-packages (from jsonschema->museval->speechmetrics) (0.35.1)\n",
            "Requirement already satisfied: rpds-py>=0.7.1 in /usr/local/lib/python3.10/dist-packages (from jsonschema->museval->speechmetrics) (0.18.1)\n",
            "Requirement already satisfied: pycparser in /usr/local/lib/python3.10/dist-packages (from cffi>=1.0->soundfile>=0.12.1->librosa->speechmetrics) (2.22)\n",
            "Requirement already satisfied: cachetools<6.0,>=2.0.0 in /usr/local/lib/python3.10/dist-packages (from google-auth<3,>=1.6.3->tensorboard<2.16,>=2.15->tensorflow>=2.0.0->speechmetrics) (5.3.3)\n",
            "Requirement already satisfied: pyasn1-modules>=0.2.1 in /usr/local/lib/python3.10/dist-packages (from google-auth<3,>=1.6.3->tensorboard<2.16,>=2.15->tensorflow>=2.0.0->speechmetrics) (0.4.0)\n",
            "Requirement already satisfied: rsa<5,>=3.1.4 in /usr/local/lib/python3.10/dist-packages (from google-auth<3,>=1.6.3->tensorboard<2.16,>=2.15->tensorflow>=2.0.0->speechmetrics) (4.9)\n",
            "Requirement already satisfied: requests-oauthlib>=0.7.0 in /usr/local/lib/python3.10/dist-packages (from google-auth-oauthlib<2,>=0.5->tensorboard<2.16,>=2.15->tensorflow>=2.0.0->speechmetrics) (1.3.1)\n",
            "Requirement already satisfied: charset-normalizer<4,>=2 in /usr/local/lib/python3.10/dist-packages (from requests>=2.19.0->pooch>=1.1->librosa->speechmetrics) (3.3.2)\n",
            "Requirement already satisfied: idna<4,>=2.5 in /usr/local/lib/python3.10/dist-packages (from requests>=2.19.0->pooch>=1.1->librosa->speechmetrics) (3.7)\n",
            "Requirement already satisfied: urllib3<3,>=1.21.1 in /usr/local/lib/python3.10/dist-packages (from requests>=2.19.0->pooch>=1.1->librosa->speechmetrics) (2.0.7)\n",
            "Requirement already satisfied: certifi>=2017.4.17 in /usr/local/lib/python3.10/dist-packages (from requests>=2.19.0->pooch>=1.1->librosa->speechmetrics) (2024.2.2)\n",
            "Collecting ffmpeg-python>=0.2.0 (from stempeg>=0.2.3->musdb>=0.4.0->museval->speechmetrics)\n",
            "  Downloading ffmpeg_python-0.2.0-py3-none-any.whl (25 kB)\n",
            "Requirement already satisfied: MarkupSafe>=2.1.1 in /usr/local/lib/python3.10/dist-packages (from werkzeug>=1.0.1->tensorboard<2.16,>=2.15->tensorflow>=2.0.0->speechmetrics) (2.1.5)\n",
            "Requirement already satisfied: contourpy>=1.0.1 in /usr/local/lib/python3.10/dist-packages (from matplotlib->Gammatone@ https://github.com/detly/gammatone/archive/master.zip#egg=Gammatone->srmrpy@ git+https://github.com/jfsantos/SRMRpy->speechmetrics) (1.2.1)\n",
            "Requirement already satisfied: cycler>=0.10 in /usr/local/lib/python3.10/dist-packages (from matplotlib->Gammatone@ https://github.com/detly/gammatone/archive/master.zip#egg=Gammatone->srmrpy@ git+https://github.com/jfsantos/SRMRpy->speechmetrics) (0.12.1)\n",
            "Requirement already satisfied: fonttools>=4.22.0 in /usr/local/lib/python3.10/dist-packages (from matplotlib->Gammatone@ https://github.com/detly/gammatone/archive/master.zip#egg=Gammatone->srmrpy@ git+https://github.com/jfsantos/SRMRpy->speechmetrics) (4.51.0)\n",
            "Requirement already satisfied: kiwisolver>=1.0.1 in /usr/local/lib/python3.10/dist-packages (from matplotlib->Gammatone@ https://github.com/detly/gammatone/archive/master.zip#egg=Gammatone->srmrpy@ git+https://github.com/jfsantos/SRMRpy->speechmetrics) (1.4.5)\n",
            "Requirement already satisfied: pillow>=6.2.0 in /usr/local/lib/python3.10/dist-packages (from matplotlib->Gammatone@ https://github.com/detly/gammatone/archive/master.zip#egg=Gammatone->srmrpy@ git+https://github.com/jfsantos/SRMRpy->speechmetrics) (9.4.0)\n",
            "Requirement already satisfied: pyparsing>=2.3.1 in /usr/local/lib/python3.10/dist-packages (from matplotlib->Gammatone@ https://github.com/detly/gammatone/archive/master.zip#egg=Gammatone->srmrpy@ git+https://github.com/jfsantos/SRMRpy->speechmetrics) (3.1.2)\n",
            "Requirement already satisfied: PyYAML in /usr/local/lib/python3.10/dist-packages (from pyaml->musdb>=0.4.0->museval->speechmetrics) (6.0.1)\n",
            "Requirement already satisfied: future in /usr/local/lib/python3.10/dist-packages (from ffmpeg-python>=0.2.0->stempeg>=0.2.3->musdb>=0.4.0->museval->speechmetrics) (0.18.3)\n",
            "Requirement already satisfied: pyasn1<0.7.0,>=0.4.6 in /usr/local/lib/python3.10/dist-packages (from pyasn1-modules>=0.2.1->google-auth<3,>=1.6.3->tensorboard<2.16,>=2.15->tensorflow>=2.0.0->speechmetrics) (0.6.0)\n",
            "Requirement already satisfied: oauthlib>=3.0.0 in /usr/local/lib/python3.10/dist-packages (from requests-oauthlib>=0.7.0->google-auth-oauthlib<2,>=0.5->tensorboard<2.16,>=2.15->tensorflow>=2.0.0->speechmetrics) (3.2.2)\n",
            "Building wheels for collected packages: speechmetrics, pesq, pypesq, srmrpy, Gammatone\n",
            "  Building wheel for speechmetrics (setup.py) ... \u001b[?25l\u001b[?25hdone\n",
            "  Created wheel for speechmetrics: filename=speechmetrics-1.0-py3-none-any.whl size=13231422 sha256=d6d9b8ad73d031979396d67da5de7fe85b5bcc881ad2dd8a8b18df88d0abcb69\n",
            "  Stored in directory: /tmp/pip-ephem-wheel-cache-6n96lvwe/wheels/13/86/89/0cd8972f50a00edf5dbc87b77e132a32f5971cd7849281ef93\n",
            "  Building wheel for pesq (setup.py) ... \u001b[?25l\u001b[?25hdone\n",
            "  Created wheel for pesq: filename=pesq-0.0.4-cp310-cp310-linux_x86_64.whl size=262352 sha256=6f6acd822d7be2217651efb36bcd4e9c43dd242fed585b862c1a329b133649fc\n",
            "  Stored in directory: /tmp/pip-ephem-wheel-cache-6n96lvwe/wheels/ff/e8/c2/f766b3bdd814052536d14877017112e2e1ce3d918fe0e15611\n",
            "  Building wheel for pypesq (setup.py) ... \u001b[?25l\u001b[?25hdone\n",
            "  Created wheel for pypesq: filename=pypesq-1.2.4-cp310-cp310-linux_x86_64.whl size=89375 sha256=487c816ccdafc2f9d6f3c3910413934fc14286a4c34bb273d4637eead3d6db76\n",
            "  Stored in directory: /tmp/pip-ephem-wheel-cache-6n96lvwe/wheels/1d/f6/53/b273039eded9ce0cfeb8801e9cffcd10f21409b8e4d5696cfb\n",
            "  Building wheel for srmrpy (setup.py) ... \u001b[?25l\u001b[?25hdone\n",
            "  Created wheel for srmrpy: filename=SRMRpy-1.0-py3-none-any.whl size=9363 sha256=2b546f7be0bea7583dedaa3c879d885d2e91e6125025ac213bdd285fee703635\n",
            "  Stored in directory: /tmp/pip-ephem-wheel-cache-6n96lvwe/wheels/59/56/1a/62edfcb700046621e74d4d81a95dbc09377058b25612e5304b\n",
            "  Building wheel for Gammatone (setup.py) ... \u001b[?25l\u001b[?25hdone\n",
            "  Created wheel for Gammatone: filename=Gammatone-1.0-py3-none-any.whl size=21760 sha256=81d28dfeea44ef4cb0785520669e08ac7f56ac9516575064231e55bb47c44c24\n",
            "  Stored in directory: /tmp/pip-ephem-wheel-cache-6n96lvwe/wheels/f7/33/eb/6c0c33ef9ad7fcd7e1355e77994e88a22ce62d68a417260660\n",
            "Successfully built speechmetrics pesq pypesq srmrpy Gammatone\n",
            "Installing collected packages: pesq, nose, simplejson, pyaml, numpy, mock, ffmpeg-python, stempeg, pypesq, resampy, pystoi, musdb, museval, Gammatone, srmrpy, speechmetrics\n",
            "  Attempting uninstall: numpy\n",
            "    Found existing installation: numpy 1.23.4\n",
            "    Uninstalling numpy-1.23.4:\n",
            "      Successfully uninstalled numpy-1.23.4\n",
            "\u001b[31mERROR: pip's dependency resolver does not currently take into account all the packages that are installed. This behaviour is the source of the following dependency conflicts.\n",
            "chex 0.1.86 requires numpy>=1.24.1, but you have numpy 1.23.5 which is incompatible.\n",
            "pandas-stubs 2.0.3.230814 requires numpy>=1.25.0; python_version >= \"3.9\", but you have numpy 1.23.5 which is incompatible.\u001b[0m\u001b[31m\n",
            "\u001b[0mSuccessfully installed Gammatone-1.0 ffmpeg-python-0.2.0 mock-5.1.0 musdb-0.4.2 museval-0.4.1 nose-1.3.7 numpy-1.23.5 pesq-0.0.4 pyaml-24.4.0 pypesq-1.2.4 pystoi-0.4.1 resampy-0.4.3 simplejson-3.19.2 speechmetrics-1.0 srmrpy-1.0 stempeg-0.2.3\n"
          ]
        },
        {
          "output_type": "display_data",
          "data": {
            "application/vnd.colab-display-data+json": {
              "pip_warning": {
                "packages": [
                  "numpy"
                ]
              },
              "id": "194bfcec607e407d9ce9c1629f9bd5e7"
            }
          },
          "metadata": {}
        }
      ]
    },
    {
      "cell_type": "markdown",
      "source": [
        "# Absolute"
      ],
      "metadata": {
        "id": "6wzCFJ_pem1F"
      }
    },
    {
      "cell_type": "code",
      "source": [
        "import speechmetrics\n",
        "# Remove the definition of the variable\n",
        "window_length = 5 # seconds"
      ],
      "metadata": {
        "id": "gBrsjrTnzbPY",
        "colab": {
          "base_uri": "https://localhost:8080/"
        },
        "outputId": "0bbefbbc-4ea9-4970-e6a0-fa614e4869d0"
      },
      "execution_count": 16,
      "outputs": [
        {
          "output_type": "stream",
          "name": "stdout",
          "text": [
            "Loaded  speechmetrics.absolute.mosnet\n",
            "Loaded  speechmetrics.absolute.srmr\n",
            "[3.11828566 2.98658252 2.82083392]\n",
            "2.975234031677246\n"
          ]
        }
      ]
    },
    {
      "cell_type": "markdown",
      "source": [
        "## LSTM"
      ],
      "metadata": {
        "id": "NibnLYV9TGGi"
      }
    },
    {
      "cell_type": "code",
      "source": [
        "absolute_metrics_LSTM = speechmetrics.load('absolute', window_length)\n",
        "scores_absolute_LSTM = absolute_metrics_LSTM('Melody_Generated_LSTM.wav')\n",
        "print(scores_absolute_LSTM.get('mosnet'))\n",
        "print(scores_absolute_LSTM.get('mosnet').mean())\n",
        "total = scores_absolute_LSTM.get('mosnet').sum()\n",
        "total -= scores_absolute_LSTM.get('mosnet').min()\n",
        "total -= scores_absolute_LSTM.get('mosnet').max()\n",
        "length = len(scores_absolute_LSTM.get('mosnet'))\n",
        "print(total / (length - 2))"
      ],
      "metadata": {
        "colab": {
          "base_uri": "https://localhost:8080/"
        },
        "id": "UgWFKqKPTL3G",
        "outputId": "c7c33c9f-dfc1-4367-88a5-e3151b842d5c"
      },
      "execution_count": 35,
      "outputs": [
        {
          "output_type": "stream",
          "name": "stdout",
          "text": [
            "Loaded  speechmetrics.absolute.mosnet\n",
            "Loaded  speechmetrics.absolute.srmr\n",
            "[2.55465055 2.56169391 2.50314331 2.69441962 2.56828737 2.59723783\n",
            " 2.57739854 2.49039245 2.65353823 2.62731242 2.68202662 2.77736783\n",
            " 2.61572838 3.18847871 2.88626528 2.71968007 2.79067278 2.60602713\n",
            " 3.11161304 2.92549682]\n",
            "2.7065715432167052\n",
            "2.6918088727527194\n"
          ]
        }
      ]
    },
    {
      "cell_type": "markdown",
      "source": [
        "## MusicLang"
      ],
      "metadata": {
        "id": "WOnQ30LOPIEv"
      }
    },
    {
      "cell_type": "code",
      "source": [
        "absolute_metrics_musiclang = speechmetrics.load('absolute', window_length)\n",
        "scores_absolute_musiclang = absolute_metrics_musiclang('musiclang.wav')\n",
        "print(scores_absolute_musiclang.get('mosnet'))\n",
        "print(scores_absolute_musiclang.get('mosnet').mean())\n",
        "total = scores_absolute_musiclang.get('mosnet').sum()\n",
        "total -= scores_absolute_musiclang.get('mosnet').min()\n",
        "total -= scores_absolute_musiclang.get('mosnet').max()\n",
        "length = len(scores_absolute_musiclang.get('mosnet'))\n",
        "print(total / (length - 2))"
      ],
      "metadata": {
        "colab": {
          "base_uri": "https://localhost:8080/"
        },
        "id": "OVtJ45xWdLph",
        "outputId": "73150786-8d60-477b-afcb-8169dac780dc"
      },
      "execution_count": 33,
      "outputs": [
        {
          "output_type": "stream",
          "name": "stdout",
          "text": [
            "Loaded  speechmetrics.absolute.mosnet\n",
            "Loaded  speechmetrics.absolute.srmr\n",
            "[3.21159673 3.91837072 3.01699519 2.64398551 2.59588385 2.7795403\n",
            " 2.5130558  2.84373498]\n",
            "2.9403953850269318\n",
            "2.848622759183248\n"
          ]
        }
      ]
    },
    {
      "cell_type": "markdown",
      "source": [
        "## Original Music"
      ],
      "metadata": {
        "id": "RQfmM9WFPOqz"
      }
    },
    {
      "cell_type": "code",
      "source": [
        "absolute_metrics_mozart = speechmetrics.load('absolute', window_length)\n",
        "scores_absolute_mozart = absolute_metrics_mozart('mozart_alla_turca.wav')\n",
        "print(scores_absolute_mozart.get('mosnet'))\n",
        "total = scores_absolute_mozart.get('mosnet').sum()\n",
        "total -= scores_absolute_mozart.get('mosnet').min()\n",
        "total -= scores_absolute_mozart.get('mosnet').max()\n",
        "length = len(scores_absolute_mozart.get('mosnet'))\n",
        "print(total / (length - 2))\n",
        "print(scores_absolute_mozart.get('mosnet').mean())"
      ],
      "metadata": {
        "colab": {
          "base_uri": "https://localhost:8080/"
        },
        "id": "YSHbN_tJ00KP",
        "outputId": "bbd13719-b6cc-4bed-c9de-2aca37f804ef"
      },
      "execution_count": 37,
      "outputs": [
        {
          "output_type": "stream",
          "name": "stdout",
          "text": [
            "Loaded  speechmetrics.absolute.mosnet\n",
            "Loaded  speechmetrics.absolute.srmr\n",
            "[3.97297907 3.83967638 4.43240023 3.17977691 3.44274712 3.95036817\n",
            " 3.13831019 3.46892667 3.82969856 2.9600296  3.14925623 3.17926431\n",
            " 3.45664835 3.85964799 3.18965125 3.28169584 3.17349815 3.93628311\n",
            " 3.3889637  3.06351995 4.04862881 3.16642952 3.0100472  3.08862996\n",
            " 4.19602013 3.88255501 4.37973785 3.0627327  3.57670379 3.80879998\n",
            " 3.0662775  3.67765784 3.15212226 2.55237842 2.62778354 2.56896043\n",
            " 2.39276433 2.95675969 3.39166164 2.53861237 2.37304616]\n",
            "3.3488770387111564\n",
            "3.3515036803920095\n"
          ]
        }
      ]
    },
    {
      "cell_type": "markdown",
      "source": [
        "## X-Transformer"
      ],
      "metadata": {
        "id": "tnHMhZEoUgNr"
      }
    },
    {
      "cell_type": "code",
      "source": [
        "absolute_metrics_xformer = speechmetrics.load('absolute', window_length)\n",
        "scores_absolute_xformer = absolute_metrics_xformer('X_Transformer.wav')\n",
        "print(scores_absolute_xformer.get('mosnet'))\n",
        "print(scores_absolute_xformer.get('mosnet').mean())"
      ],
      "metadata": {
        "colab": {
          "base_uri": "https://localhost:8080/"
        },
        "id": "5URvMo6AOK5F",
        "outputId": "3ccba556-600a-4845-8d5f-4b9bc5b7d80d"
      },
      "execution_count": 39,
      "outputs": [
        {
          "output_type": "stream",
          "name": "stdout",
          "text": [
            "Loaded  speechmetrics.absolute.mosnet\n",
            "Loaded  speechmetrics.absolute.srmr\n",
            "[3.0200913  2.96767783 2.9510839 ]\n",
            "2.9796176751454673\n"
          ]
        }
      ]
    }
  ]
}